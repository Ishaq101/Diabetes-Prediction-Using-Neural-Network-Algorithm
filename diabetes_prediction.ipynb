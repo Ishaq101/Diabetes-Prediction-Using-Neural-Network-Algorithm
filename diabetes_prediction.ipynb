{
 "cells": [
  {
   "cell_type": "markdown",
   "metadata": {},
   "source": [
    "# Background & Objectives"
   ]
  },
  {
   "cell_type": "markdown",
   "metadata": {},
   "source": [
    "Background:<br>\n",
    "As a AI Engineer in a consultant company, one of our client need a help to predict which patient is potential got diabetes or not. The client propose to build this smart detection using Deep Learning Algorithm.\n",
    "\n",
    "Objectives:\n",
    "1. Build smart detection for diabetes from given dataset (`dataset.csv`)\n",
    "2. Do experimentation with Deep Learning Algorithm especially Neural Network Architect\n",
    "    - narrow and shallow\n",
    "    - narrow and wide \n",
    "    - deep and shallow\n",
    "    - deep and wide\n",
    "3. Do hyperparameter including Epoch, Batch Size, Learning Rate, and others then evaluate each experimentation using confusion matrix"
   ]
  },
  {
   "cell_type": "markdown",
   "metadata": {},
   "source": [
    "# Data Understanding"
   ]
  },
  {
   "cell_type": "markdown",
   "metadata": {},
   "source": [
    "About Dataset:<br>\n",
    "This dataset comes from the National Institute of Diabetes and Digestive and Kidney Diseases (NIDDK). It focuses on diagnosing diabetes in Pima Indian women aged 21 and over. The data was carefully chosen from a larger collection, specifically including only female patients of Pima Indian heritage who were at least 21 years old.\n",
    "<br><br>\n",
    "<table>\n",
    "    <thead>\n",
    "      <tr>\n",
    "        <th>Feature</th>\n",
    "        <th>Description</th>\n",
    "      </tr>\n",
    "    </thead>\n",
    "    <tbody>\n",
    "      <tr>\n",
    "        <td>Pregnancies</td>\n",
    "        <td>Number of times pregnant</td>\n",
    "      </tr>\n",
    "      <tr>\n",
    "        <td>Glucose</td>\n",
    "        <td>Plasma glucose concentration at 2 hours in an oral glucose tolerance test</td>\n",
    "      </tr>\n",
    "      <tr>\n",
    "        <td>BloodPressure</td>\n",
    "        <td>Diastolic blood pressure (mm Hg)</td>\n",
    "      </tr>\n",
    "      <tr>\n",
    "        <td>SkinThickness</td>\n",
    "        <td>Triceps skin fold thickness (mm)</td>\n",
    "      </tr>\n",
    "      <tr>\n",
    "        <td>Insulin</td>\n",
    "        <td>2-Hour serum insulin (mu U/ml)</td>\n",
    "      </tr>\n",
    "      <tr>\n",
    "        <td>BMI</td>\n",
    "        <td>Body mass index (weight in kg / (height in m)^2)</td>\n",
    "      </tr>\n",
    "      <tr>\n",
    "        <td>DiabetesPedigreeFunction</td>\n",
    "        <td>Diabetes pedigree function</td>\n",
    "      </tr>\n",
    "      <tr>\n",
    "        <td>Age</td>\n",
    "        <td>Age (years)</td>\n",
    "      </tr>\n",
    "      <tr>\n",
    "        <td>Outcome</td>\n",
    "        <td>Class variable (0 or 1) - 268 of 768 are 1, the others are 0</td>\n",
    "      </tr>\n",
    "    </tbody>\n",
    "  </table>"
   ]
  },
  {
   "cell_type": "code",
   "execution_count": 3,
   "metadata": {},
   "outputs": [],
   "source": [
    "import pandas as pd\n",
    "import numpy as np\n",
    "import matplotlib.pyplot as plt\n",
    "import seaborn as sns"
   ]
  },
  {
   "cell_type": "markdown",
   "metadata": {},
   "source": [
    "# Exploratory Data Analysis (EDA)"
   ]
  },
  {
   "cell_type": "code",
   "execution_count": null,
   "metadata": {},
   "outputs": [],
   "source": []
  },
  {
   "cell_type": "markdown",
   "metadata": {},
   "source": [
    "# Data Preprocessing"
   ]
  },
  {
   "cell_type": "code",
   "execution_count": null,
   "metadata": {},
   "outputs": [],
   "source": []
  },
  {
   "cell_type": "markdown",
   "metadata": {},
   "source": [
    "# Model Training & Experimentation"
   ]
  },
  {
   "cell_type": "code",
   "execution_count": null,
   "metadata": {},
   "outputs": [],
   "source": []
  },
  {
   "cell_type": "markdown",
   "metadata": {},
   "source": [
    "# Model Evaluation"
   ]
  },
  {
   "cell_type": "code",
   "execution_count": null,
   "metadata": {},
   "outputs": [],
   "source": []
  },
  {
   "cell_type": "markdown",
   "metadata": {},
   "source": [
    "# Conclusion & Recommendation"
   ]
  },
  {
   "cell_type": "code",
   "execution_count": null,
   "metadata": {},
   "outputs": [],
   "source": []
  }
 ],
 "metadata": {
  "kernelspec": {
   "display_name": "envnlp",
   "language": "python",
   "name": "python3"
  },
  "language_info": {
   "codemirror_mode": {
    "name": "ipython",
    "version": 3
   },
   "file_extension": ".py",
   "mimetype": "text/x-python",
   "name": "python",
   "nbconvert_exporter": "python",
   "pygments_lexer": "ipython3",
   "version": "3.11.4"
  }
 },
 "nbformat": 4,
 "nbformat_minor": 2
}
